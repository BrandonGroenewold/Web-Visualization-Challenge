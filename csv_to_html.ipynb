{
 "cells": [
  {
   "cell_type": "code",
   "execution_count": 1,
   "id": "367dfa56",
   "metadata": {},
   "outputs": [],
   "source": [
    "# import dependencies \n",
    "import os\n",
    "import pandas as pd"
   ]
  },
  {
   "cell_type": "code",
   "execution_count": 2,
   "id": "bdc87379",
   "metadata": {},
   "outputs": [],
   "source": [
    "csv_path = os.path.join('Resources', 'cities.csv')\n",
    "cities_csv = pd.read_csv(csv_path)"
   ]
  },
  {
   "cell_type": "code",
   "execution_count": 3,
   "id": "27c82a24",
   "metadata": {},
   "outputs": [],
   "source": [
    "# create html table and save to file \n",
    "cities_csv.to_html('table.html', index=False, classes=['table', 'table-striped', 'table-hover'])"
   ]
  },
  {
   "cell_type": "code",
   "execution_count": null,
   "id": "14ffba84",
   "metadata": {},
   "outputs": [],
   "source": []
  }
 ],
 "metadata": {
  "kernelspec": {
   "display_name": "Python 3 (ipykernel)",
   "language": "python",
   "name": "python3"
  },
  "language_info": {
   "codemirror_mode": {
    "name": "ipython",
    "version": 3
   },
   "file_extension": ".py",
   "mimetype": "text/x-python",
   "name": "python",
   "nbconvert_exporter": "python",
   "pygments_lexer": "ipython3",
   "version": "3.8.13"
  }
 },
 "nbformat": 4,
 "nbformat_minor": 5
}
